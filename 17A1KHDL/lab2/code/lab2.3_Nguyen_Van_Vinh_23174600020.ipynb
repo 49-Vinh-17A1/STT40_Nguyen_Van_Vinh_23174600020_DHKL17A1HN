{
 "cells": [
  {
   "cell_type": "code",
   "execution_count": 6,
   "metadata": {},
   "outputs": [],
   "source": [
    "import numpy as np "
   ]
  },
  {
   "cell_type": "markdown",
   "metadata": {},
   "source": [
    "# read data"
   ]
  },
  {
   "cell_type": "markdown",
   "metadata": {},
   "source": [
    "# cau 1,2 and 3"
   ]
  },
  {
   "cell_type": "code",
   "execution_count": 7,
   "metadata": {},
   "outputs": [
    {
     "name": "stdout",
     "output_type": "stream",
     "text": [
      "du lieu cua efficiency la:  int64\n",
      "kieu du lieu cua shift la:  <U9\n"
     ]
    }
   ],
   "source": [
    "with open(r'D:\\17A1KHDL\\lab2\\data\\efficiency.txt','r',encoding='utf-8-sig') as file:\n",
    "    lst = []\n",
    "    for i in file:\n",
    "        data = i.strip()\n",
    "        lst.append(data)\n",
    "efficiency = np.array(lst,dtype= int)\n",
    "print(\"du lieu cua efficiency la: \",efficiency.dtype)\n",
    "\n",
    "with open(r'D:\\17A1KHDL\\lab2\\data\\shifts.txt','r',encoding='UTF-8') as file:\n",
    "    danhsach = []\n",
    "    for i in file:\n",
    "        data = i.strip().replace(' ','')\n",
    "        danhsach.append(data)\n",
    "shift = np.array(danhsach)\n",
    "print(\"kieu du lieu cua shift la: \",shift.dtype)"
   ]
  },
  {
   "cell_type": "markdown",
   "metadata": {},
   "source": [
    "# 6"
   ]
  },
  {
   "cell_type": "code",
   "execution_count": 8,
   "metadata": {},
   "outputs": [],
   "source": [
    "dtype = [('shift','U9'),('efficiency',float)]\n",
    "workers = np.array(list(zip(shift,efficiency)),dtype= dtype)"
   ]
  },
  {
   "cell_type": "markdown",
   "metadata": {},
   "source": [
    "# cau 4"
   ]
  },
  {
   "cell_type": "code",
   "execution_count": 9,
   "metadata": {},
   "outputs": [
    {
     "name": "stdout",
     "output_type": "stream",
     "text": [
      "hieu suat san xuat trung binh cua nhung nhan vien ca sang la:  96.8529411764706\n"
     ]
    }
   ],
   "source": [
    "morning =workers[workers['shift']=='Morning'] \n",
    "ca_sang = np.mean(morning['efficiency'])\n",
    "print(\"hieu suat san xuat trung binh cua nhung nhan vien ca sang la: \",ca_sang)\n"
   ]
  },
  {
   "cell_type": "markdown",
   "metadata": {},
   "source": [
    "# cau 5"
   ]
  },
  {
   "cell_type": "code",
   "execution_count": 10,
   "metadata": {},
   "outputs": [
    {
     "name": "stdout",
     "output_type": "stream",
     "text": [
      "hieu suat trung binh cua nhung nhan vien lam viec trong ca khac la:  98.93939393939394\n"
     ]
    }
   ],
   "source": [
    "ca_khac = workers[workers['shift'] != 'Morning']\n",
    "hieu_suat_ca_khac = np.mean(ca_khac['efficiency'])\n",
    "print(\"hieu suat trung binh cua nhung nhan vien lam viec trong ca khac la: \",hieu_suat_ca_khac) "
   ]
  },
  {
   "cell_type": "markdown",
   "metadata": {},
   "source": [
    "# Cau 7"
   ]
  },
  {
   "cell_type": "code",
   "execution_count": 11,
   "metadata": {},
   "outputs": [
    {
     "name": "stdout",
     "output_type": "stream",
     "text": [
      "ca lam viec co hieu suat cao nhat la: ('Night', 149.0)\n",
      "ca lam viec co hieu suat thap nhat la: ('Afternoon', 50.0)\n"
     ]
    }
   ],
   "source": [
    "workers.sort(order= 'efficiency')\n",
    "print(\"ca lam viec co hieu suat cao nhat la:\",workers[-1])\n",
    "print(\"ca lam viec co hieu suat thap nhat la:\",workers[0])\n"
   ]
  },
  {
   "cell_type": "code",
   "execution_count": null,
   "metadata": {},
   "outputs": [],
   "source": []
  }
 ],
 "metadata": {
  "kernelspec": {
   "display_name": "Python 3",
   "language": "python",
   "name": "python3"
  },
  "language_info": {
   "codemirror_mode": {
    "name": "ipython",
    "version": 3
   },
   "file_extension": ".py",
   "mimetype": "text/x-python",
   "name": "python",
   "nbconvert_exporter": "python",
   "pygments_lexer": "ipython3",
   "version": "3.11.5"
  }
 },
 "nbformat": 4,
 "nbformat_minor": 2
}
