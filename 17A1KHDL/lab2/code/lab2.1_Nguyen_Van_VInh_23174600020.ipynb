{
 "cells": [
  {
   "cell_type": "code",
   "execution_count": 1,
   "metadata": {},
   "outputs": [],
   "source": [
    "import numpy as np"
   ]
  },
  {
   "cell_type": "markdown",
   "metadata": {},
   "source": [
    "# 1"
   ]
  },
  {
   "cell_type": "code",
   "execution_count": 2,
   "metadata": {},
   "outputs": [
    {
     "name": "stdout",
     "output_type": "stream",
     "text": [
      "[15.24 29.79 21.7  17.89 17.45 26.99 26.85 33.05 29.   30.06 23.15 22.34\n",
      " 26.38 18.92 30.33 31.67 30.47 18.13 16.7  22.37 20.89 34.55 21.1  32.63\n",
      " 31.39 25.97 34.43 29.55 16.27 31.05]\n",
      "nhiet do trung binh la:  25.54\n"
     ]
    }
   ],
   "source": [
    "temperture = np.round(np.random.uniform(15,35,30),2)\n",
    "temperture\n",
    "temp_mean = np.mean(temperture)\n",
    "print(temperture)\n",
    "print(\"nhiet do trung binh la: \",np.round(temp_mean,2))"
   ]
  },
  {
   "cell_type": "markdown",
   "metadata": {},
   "source": [
    "## 2"
   ]
  },
  {
   "cell_type": "code",
   "execution_count": 3,
   "metadata": {},
   "outputs": [
    {
     "name": "stdout",
     "output_type": "stream",
     "text": [
      "Ngay 22 co nhiet do cao nhat va co nhiet do la 34.55\n",
      "Ngay 1 co nhiet do thap nhat va co nhiet do la 15.24\n"
     ]
    }
   ],
   "source": [
    "temp_max = np.max(temperture)\n",
    "temp_min = np.min(temperture)\n",
    "day_hot = np.argmax(temperture)+1\n",
    "day_cold = np.argmin(temperture)+1\n",
    "print(f\"Ngay {day_hot} co nhiet do cao nhat va co nhiet do la {temp_max}\")\n",
    "print(f\"Ngay {day_cold} co nhiet do thap nhat va co nhiet do la {temp_min}\")"
   ]
  },
  {
   "cell_type": "code",
   "execution_count": 4,
   "metadata": {},
   "outputs": [
    {
     "name": "stdout",
     "output_type": "stream",
     "text": [
      "Ngày có sự biến đổi nhiệt độ lớn nhất là ngày 29 với sự chênh lệch 14.78°C\n"
     ]
    }
   ],
   "source": [
    "diff_temps = np.diff(temperture)\n",
    "max_diff_day = np.argmax(np.abs(diff_temps)) + 1\n",
    "print(f\"Ngày có sự biến đổi nhiệt độ lớn nhất là ngày {max_diff_day} với sự chênh lệch {abs(diff_temps[max_diff_day - 1]):.2f}°C\")\n"
   ]
  },
  {
   "cell_type": "markdown",
   "metadata": {},
   "source": [
    "# 3"
   ]
  },
  {
   "cell_type": "code",
   "execution_count": 5,
   "metadata": {},
   "outputs": [
    {
     "name": "stdout",
     "output_type": "stream",
     "text": [
      "cac ngay co nhiet do cao hon 20 la: \n",
      " [29.79 21.7  26.99 26.85 33.05 29.   30.06 23.15 22.34 26.38 30.33 31.67\n",
      " 30.47 22.37 20.89 34.55 21.1  32.63 31.39 25.97 34.43 29.55 31.05]\n",
      "nhiet do cua cac ngay 5,10,15,20 va 25 la: \n",
      "[17.45 30.06 30.33 22.37]\n",
      "nhiet do cua cac ngay lon hon trung binh la: \n",
      " [29.79 26.99 26.85 33.05 29.   30.06 26.38 30.33 31.67 30.47 34.55 32.63\n",
      " 31.39 25.97 34.43 29.55 31.05]\n"
     ]
    }
   ],
   "source": [
    "tempabove20 = temperture[temperture>20]\n",
    "print(\"cac ngay co nhiet do cao hon 20 la: \\n\",tempabove20)\n",
    "print(\"nhiet do cua cac ngay 5,10,15,20 va 25 la: \")\n",
    "print(temperture[[4,9,14,19]])\n",
    "temp_abovemean = temperture[temperture>temp_mean]\n",
    "print(\"nhiet do cua cac ngay lon hon trung binh la: \\n\",temp_abovemean)"
   ]
  },
  {
   "cell_type": "code",
   "execution_count": 6,
   "metadata": {},
   "outputs": [
    {
     "name": "stdout",
     "output_type": "stream",
     "text": [
      "nhiet do cac ngay chan la: \n",
      " [15.24 21.7  17.45 26.85 29.   23.15 26.38 30.33 30.47 16.7  20.89 21.1\n",
      " 31.39 34.43 16.27]\n",
      "nhiet do cac ngay le la:\n",
      "  [29.79 17.89 26.99 33.05 30.06 22.34 18.92 31.67 18.13 22.37 34.55 32.63\n",
      " 25.97 29.55 31.05]\n"
     ]
    }
   ],
   "source": [
    "day_chan =temperture[::2]\n",
    "dat_le = temperture[1::2]\n",
    "print(\"nhiet do cac ngay chan la: \\n\",day_chan)\n",
    "print(\"nhiet do cac ngay le la:\\n \",dat_le)"
   ]
  },
  {
   "cell_type": "code",
   "execution_count": null,
   "metadata": {},
   "outputs": [],
   "source": []
  }
 ],
 "metadata": {
  "kernelspec": {
   "display_name": "Python 3",
   "language": "python",
   "name": "python3"
  },
  "language_info": {
   "codemirror_mode": {
    "name": "ipython",
    "version": 3
   },
   "file_extension": ".py",
   "mimetype": "text/x-python",
   "name": "python",
   "nbconvert_exporter": "python",
   "pygments_lexer": "ipython3",
   "version": "3.11.5"
  }
 },
 "nbformat": 4,
 "nbformat_minor": 2
}
