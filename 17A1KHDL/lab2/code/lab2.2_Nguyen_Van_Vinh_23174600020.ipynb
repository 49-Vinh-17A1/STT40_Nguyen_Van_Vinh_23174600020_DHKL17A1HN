{
 "cells": [
  {
   "cell_type": "code",
   "execution_count": 5,
   "metadata": {},
   "outputs": [],
   "source": [
    "import numpy as np "
   ]
  },
  {
   "cell_type": "code",
   "execution_count": 10,
   "metadata": {},
   "outputs": [
    {
     "data": {
      "text/plain": [
       "array([['id', 'Tên sinh viên', 'HP 1', 'HP 2', 'HP 3'],\n",
       "       ['1', 'Nguyễn Văn Bình', '3.04', '3.39', '6.7'],\n",
       "       ['2', 'Lê Thị Na', '5.8', '6.41', '6.62'],\n",
       "       ['3', 'Trần Văn Thành', '2.59', '3.57', '9.16'],\n",
       "       ['4', 'Phạm Thị Hồng', '3.81', '8.78', '9.24']], dtype='<U15')"
      ]
     },
     "execution_count": 10,
     "metadata": {},
     "output_type": "execute_result"
    }
   ],
   "source": [
    "with open(r'D:\\17A1KHDL\\lab2\\data\\diem_hoc_phan.csv','r',encoding='utf-8') as file:\n",
    "    lst =[]\n",
    "    for i in file:\n",
    "        data = i.strip().split(',')\n",
    "        lst.append(data)\n",
    "\n",
    "diem = np.array(lst)\n",
    "diem[:5]"
   ]
  },
  {
   "cell_type": "code",
   "execution_count": 14,
   "metadata": {},
   "outputs": [],
   "source": [
    "diem[1:,2:] = diem[1:,2:].astype(float)"
   ]
  },
  {
   "cell_type": "code",
   "execution_count": 16,
   "metadata": {},
   "outputs": [
    {
     "data": {
      "text/plain": [
       "array([['id', 'Tên sinh viên', 'HP 1', 'HP 2', 'HP 3'],\n",
       "       ['1', 'Nguyễn Văn Bình', '3.04', '3.39', '6.7'],\n",
       "       ['2', 'Lê Thị Na', '5.8', '6.41', '6.62'],\n",
       "       ['3', 'Trần Văn Thành', '2.59', '3.57', '9.16'],\n",
       "       ['4', 'Phạm Thị Hồng', '3.81', '8.78', '9.24']], dtype='<U15')"
      ]
     },
     "execution_count": 16,
     "metadata": {},
     "output_type": "execute_result"
    }
   ],
   "source": [
    "diem[:5]"
   ]
  },
  {
   "cell_type": "code",
   "execution_count": 25,
   "metadata": {},
   "outputs": [
    {
     "data": {
      "text/plain": [
       "array([[3.04, 3.39, 6.7 ],\n",
       "       [5.8 , 6.41, 6.62],\n",
       "       [2.59, 3.57, 9.16],\n",
       "       [3.81, 8.78, 9.24],\n",
       "       [8.91, 9.64, 6.39]])"
      ]
     },
     "execution_count": 25,
     "metadata": {},
     "output_type": "execute_result"
    }
   ],
   "source": [
    "id_and_names = diem[1:, :2]  # Lấy cột id và tên sinh viên\n",
    "data_numbers = diem[1:,2:].astype(float)\n",
    "data_numbers[:5]"
   ]
  },
  {
   "cell_type": "code",
   "execution_count": 27,
   "metadata": {},
   "outputs": [
    {
     "data": {
      "text/plain": [
       "array([['F', 'F', 'C+'],\n",
       "       ['C', 'C', 'C+'],\n",
       "       ['F', 'F', 'A'],\n",
       "       ['F', 'A', 'A'],\n",
       "       ['A', 'A', 'C']], dtype='<U2')"
      ]
     },
     "execution_count": 27,
     "metadata": {},
     "output_type": "execute_result"
    }
   ],
   "source": [
    "grades = np.where(data_numbers>=8.5,'A',\n",
    "         np.where(data_numbers>=8.0,'B+',\n",
    "         np.where(data_numbers>=7.0,'B',\n",
    "         np.where(data_numbers>=6.5,'C+',\n",
    "         np.where(data_numbers>=5.5,'C',\n",
    "         np.where(data_numbers>=5.0,'D+',\n",
    "         np.where(data_numbers>=4,'D','F')))))))"
   ]
  },
  {
   "cell_type": "code",
   "execution_count": 28,
   "metadata": {},
   "outputs": [],
   "source": [
    "final_data = np.hstack([id_and_names,grades])"
   ]
  },
  {
   "cell_type": "code",
   "execution_count": 29,
   "metadata": {},
   "outputs": [
    {
     "data": {
      "text/plain": [
       "array([['1', 'Nguyễn Văn Bình', 'F', 'F', 'C+'],\n",
       "       ['2', 'Lê Thị Na', 'C', 'C', 'C+'],\n",
       "       ['3', 'Trần Văn Thành', 'F', 'F', 'A'],\n",
       "       ['4', 'Phạm Thị Hồng', 'F', 'A', 'A'],\n",
       "       ['5', 'Bùi Văn An', 'A', 'A', 'C']], dtype='<U15')"
      ]
     },
     "execution_count": 29,
     "metadata": {},
     "output_type": "execute_result"
    }
   ],
   "source": [
    "final_data[:5]"
   ]
  },
  {
   "cell_type": "code",
   "execution_count": 30,
   "metadata": {},
   "outputs": [],
   "source": [
    "# chia tach du lieu\n",
    "hp1 = diem[1:,2].astype(float)\n",
    "hp2 = diem[1:,3].astype(float)\n",
    "hp3 = diem[1:,4].astype(float)"
   ]
  },
  {
   "cell_type": "code",
   "execution_count": 38,
   "metadata": {},
   "outputs": [
    {
     "name": "stdout",
     "output_type": "stream",
     "text": [
      "hoc phan 1 co:\n",
      "tong diem la:  154.93\n",
      "trung binh la:  5.16\n",
      "do lech chuan la:  2.41\n",
      "hoc phan 2 co:\n",
      "tong diem la:  170.27\n",
      "trung binh la:  5.68\n",
      "do lech chuan la:  2.25\n",
      "hoc phan 3 co:\n",
      "tong diem la:  188.78\n",
      "trung binh la:  6.29\n",
      "do lech chuan la:  1.81\n"
     ]
    }
   ],
   "source": [
    "#4\n",
    "def phan_tich(hp):\n",
    "    print(\"tong diem la: \",np.round(np.sum(hp),2))\n",
    "    print(\"trung binh la: \",np.round(np.mean(hp),2))\n",
    "    print(\"do lech chuan la: \",np.round(np.std(hp),2))\n",
    "    return\n",
    "print(\"hoc phan 1 co:\")\n",
    "phan_tich(hp1)\n",
    "print(\"hoc phan 2 co:\")\n",
    "phan_tich(hp2)\n",
    "print(\"hoc phan 3 co:\")\n",
    "phan_tich(hp3)"
   ]
  },
  {
   "cell_type": "code",
   "execution_count": 43,
   "metadata": {},
   "outputs": [
    {
     "name": "stdout",
     "output_type": "stream",
     "text": [
      "Điểm A: 15 sinh viên\n",
      "Điểm B: 4 sinh viên\n",
      "Điểm B+: 7 sinh viên\n",
      "Điểm C: 14 sinh viên\n",
      "Điểm C+: 6 sinh viên\n",
      "Điểm D: 10 sinh viên\n",
      "Điểm D+: 6 sinh viên\n",
      "Điểm F: 28 sinh viên\n"
     ]
    }
   ],
   "source": [
    "unique,counts = np.unique(grades,return_counts=True)\n",
    "diem_chu = dict(zip(unique,counts))\n",
    "for grade, count in diem_chu.items():\n",
    "    print(f\"Điểm {grade}: {count} sinh viên\")"
   ]
  },
  {
   "cell_type": "code",
   "execution_count": null,
   "metadata": {},
   "outputs": [],
   "source": []
  },
  {
   "cell_type": "code",
   "execution_count": null,
   "metadata": {},
   "outputs": [],
   "source": []
  },
  {
   "cell_type": "code",
   "execution_count": null,
   "metadata": {},
   "outputs": [],
   "source": []
  },
  {
   "cell_type": "code",
   "execution_count": null,
   "metadata": {},
   "outputs": [],
   "source": []
  },
  {
   "cell_type": "code",
   "execution_count": null,
   "metadata": {},
   "outputs": [],
   "source": []
  }
 ],
 "metadata": {
  "kernelspec": {
   "display_name": "Python 3",
   "language": "python",
   "name": "python3"
  },
  "language_info": {
   "codemirror_mode": {
    "name": "ipython",
    "version": 3
   },
   "file_extension": ".py",
   "mimetype": "text/x-python",
   "name": "python",
   "nbconvert_exporter": "python",
   "pygments_lexer": "ipython3",
   "version": "3.11.5"
  }
 },
 "nbformat": 4,
 "nbformat_minor": 2
}
